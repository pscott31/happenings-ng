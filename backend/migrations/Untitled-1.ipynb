{
 "cells": [
  {
   "cell_type": "code",
   "execution_count": null,
   "metadata": {},
   "outputs": [],
   "source": [
    "\n",
    "\n",
    "result = client.catalog.retrieve_catalog_object(\n",
    "  object_id = \"Z6FETAVUG6PDOORHADD5FO2Q\",\n",
    "  include_related_objects = False\n",
    ")\n",
    "\n",
    "if result.is_success():\n",
    "  print(result.body)\n",
    "elif result.is_error():\n",
    "  print(result.errors)"
   ]
  }
 ],
 "metadata": {
  "kernelspec": {
   "display_name": "Python 3",
   "language": "python",
   "name": "python3"
  },
  "language_info": {
   "name": "python",
   "version": "3.11.6"
  }
 },
 "nbformat": 4,
 "nbformat_minor": 2
}
