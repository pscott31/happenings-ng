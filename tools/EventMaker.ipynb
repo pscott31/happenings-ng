{
 "cells": [
  {
   "cell_type": "code",
   "execution_count": 3,
   "metadata": {},
   "outputs": [
    {
     "name": "stderr",
     "output_type": "stream",
     "text": [
      "/var/folders/7s/vbhf0pfn1xgfjp818_wzyp9h0000gn/T/ipykernel_72814/4102000724.py:6: DeprecationWarning: The 'access_token' params are deprecated. Use 'bearer_auth_credentials' param instead.\n",
      "  client = Client(access_token=token, environment=env)\n"
     ]
    }
   ],
   "source": [
    "from square.client import Client\n",
    "import decimal\n",
    "import requests\n",
    "\n",
    "def get_tickettypes(token: str, env, object_id: str):\n",
    "    client = Client(access_token=token, environment=env)\n",
    "    result = client.catalog.retrieve_catalog_object(object_id = \"Z6FETAVUG6PDOORHADD5FO2Q\")\n",
    "\n",
    "    if not result.is_success():\n",
    "        raise Exception(\"fail\")\n",
    "\n",
    "    variations = result.body['object']['item_data']['variations']\n",
    "\n",
    "    tts = []\n",
    "    for v in variations:\n",
    "        ivd = v['item_variation_data']\n",
    "        tt = {\n",
    "            'name': ivd['name'],\n",
    "            'price': '{0:.2f}'.format(decimal.Decimal(ivd['price_money']['amount'])/100),\n",
    "            'square_item_id': v['id'],\n",
    "            'square_catalog_version': v['version']\n",
    "            }\n",
    "        tts.append(tt)\n",
    "    return tts\n",
    "\n",
    "name = \"Treasure Hunt & Tea\"\n",
    "tagline = \"Hunt for clues arround the village (optional) from midday, then enjoy afternoon tea and fresh home made cakes.\"\n",
    "all_tts = get_tickettypes(\n",
    "    'EAAAEPitjhTTtIaUPQSPMDvEkPWkGsUh6FkaAnVdhImKFoUaiaciJ82aoXKvnK41',\n",
    "    'sandbox',\n",
    "    \"Z6FETAVUG6PDOORHADD5FO2Q\")\n",
    "\n",
    "start = \"2024-04-27 12:00:00 UTC\"\n",
    "end = \"2024-04-27 16:00:00 UTC\"\n",
    "\n",
    "form = {'e' : {\n",
    "    'id': 'easter_24',\n",
    "    'name': name,\n",
    "    'tagline': tagline,\n",
    "    'start': start,\n",
    "    'end': end,\n",
    "    'default_ticket_type': all_tts[0],\n",
    "    'additional_ticket_types': all_tts[1:],\n",
    "    'slots': {\n",
    "        'list': [ \n",
    "        {'name': '1pm', 'capacity': 18},\n",
    "        {'name': '1:30pm', 'capacity': 18},\n",
    "        {'name': '2:00pm', 'capacity': 18},\n",
    "        {'name': '2:30pm', 'capacity': 18},\n",
    "        {'name': '3:00pm', 'capacity': 18}\n",
    "    ],\n",
    "    'description': \"Tea & Cakes at\"}\n",
    "}}\n",
    "\n",
    "# import urllib.parse\n",
    "\n",
    "# enc =  urllib.parse.urlencode(form)\n",
    "# print(enc)\n",
    "res = requests.get('http://localhost:3000/api/create_event', json=form)\n",
    "# res"
   ]
  },
  {
   "cell_type": "code",
   "execution_count": 2,
   "metadata": {},
   "outputs": [
    {
     "data": {
      "text/plain": [
       "{'name': 'Child',\n",
       " 'price': '5.00',\n",
       " 'square_item_id': 'OCXNCDIAST6RO7Q6N6HPCTIE',\n",
       " 'square_catalog_version': 1710947943682}"
      ]
     },
     "execution_count": 2,
     "metadata": {},
     "output_type": "execute_result"
    }
   ],
   "source": [
    "  \n",
    "decimal.getcontext().prec = 2\n",
    "\n",
    "# d1.quantize(decimal.Decimal('0.01'))\n",
    "\n",
    "default_tt = all_tts[0]\n",
    "tts = all_tts[1:]\n",
    "\n",
    "default_tt\n"
   ]
  },
  {
   "cell_type": "code",
   "execution_count": null,
   "metadata": {},
   "outputs": [],
   "source": []
  }
 ],
 "metadata": {
  "kernelspec": {
   "display_name": "Python 3",
   "language": "python",
   "name": "python3"
  },
  "language_info": {
   "codemirror_mode": {
    "name": "ipython",
    "version": 3
   },
   "file_extension": ".py",
   "mimetype": "text/x-python",
   "name": "python",
   "nbconvert_exporter": "python",
   "pygments_lexer": "ipython3",
   "version": "3.12.2"
  }
 },
 "nbformat": 4,
 "nbformat_minor": 2
}
